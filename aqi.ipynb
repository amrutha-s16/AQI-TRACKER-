{
 "cells": [
  {
   "cell_type": "code",
   "execution_count": 123,
   "id": "a972d292",
   "metadata": {},
   "outputs": [
    {
     "data": {
      "text/html": [
       "<div>\n",
       "<style scoped>\n",
       "    .dataframe tbody tr th:only-of-type {\n",
       "        vertical-align: middle;\n",
       "    }\n",
       "\n",
       "    .dataframe tbody tr th {\n",
       "        vertical-align: top;\n",
       "    }\n",
       "\n",
       "    .dataframe thead th {\n",
       "        text-align: right;\n",
       "    }\n",
       "</style>\n",
       "<table border=\"1\" class=\"dataframe\">\n",
       "  <thead>\n",
       "    <tr style=\"text-align: right;\">\n",
       "      <th></th>\n",
       "      <th>Date/Day</th>\n",
       "      <th>CO\\n(mg/m³)</th>\n",
       "      <th>Ozone (µg/m³)</th>\n",
       "      <th>NO\\n(µg/m³)</th>\n",
       "      <th>NO2\\n(µg/m³)</th>\n",
       "      <th>NOX\\n(µg/m³)</th>\n",
       "      <th>NH3\\n(µg/m³)</th>\n",
       "      <th>SO2\\n(µg/m³)</th>\n",
       "      <th>PM2.5\\n(µg/m³)</th>\n",
       "      <th>PM10\\n(µg/m³)</th>\n",
       "      <th>AQI</th>\n",
       "      <th>Unnamed: 11</th>\n",
       "    </tr>\n",
       "  </thead>\n",
       "  <tbody>\n",
       "    <tr>\n",
       "      <th>0</th>\n",
       "      <td>01-01-2023 Sun</td>\n",
       "      <td>0.738372</td>\n",
       "      <td>18.07169</td>\n",
       "      <td>0.911478</td>\n",
       "      <td>6.759912</td>\n",
       "      <td>7.676823</td>\n",
       "      <td>8.936063</td>\n",
       "      <td>9.258521</td>\n",
       "      <td>43.95833</td>\n",
       "      <td>69.54166</td>\n",
       "      <td>73.0</td>\n",
       "      <td>NaN</td>\n",
       "    </tr>\n",
       "    <tr>\n",
       "      <th>1</th>\n",
       "      <td>02-01-2023 Mon</td>\n",
       "      <td>0.7425377</td>\n",
       "      <td>17.63625</td>\n",
       "      <td>1.260115</td>\n",
       "      <td>6.603401</td>\n",
       "      <td>7.869164</td>\n",
       "      <td>9.275459</td>\n",
       "      <td>9.870674</td>\n",
       "      <td>44.08333</td>\n",
       "      <td>69.75</td>\n",
       "      <td>73.0</td>\n",
       "      <td>NaN</td>\n",
       "    </tr>\n",
       "    <tr>\n",
       "      <th>2</th>\n",
       "      <td>03-01-2023 Tue</td>\n",
       "      <td>1.009664</td>\n",
       "      <td>16.14611</td>\n",
       "      <td>0.925423</td>\n",
       "      <td>6.737676</td>\n",
       "      <td>7.66853</td>\n",
       "      <td>8.978487</td>\n",
       "      <td>9.86591</td>\n",
       "      <td>39.20833</td>\n",
       "      <td>62.83333</td>\n",
       "      <td>65.0</td>\n",
       "      <td>NaN</td>\n",
       "    </tr>\n",
       "    <tr>\n",
       "      <th>3</th>\n",
       "      <td>04-01-2023 Wed</td>\n",
       "      <td>1.160671</td>\n",
       "      <td>17.58717</td>\n",
       "      <td>2.046083</td>\n",
       "      <td>7.118263</td>\n",
       "      <td>9.171067</td>\n",
       "      <td>9.147236</td>\n",
       "      <td>10.81153</td>\n",
       "      <td>41.75</td>\n",
       "      <td>66.5</td>\n",
       "      <td>70.0</td>\n",
       "      <td>NaN</td>\n",
       "    </tr>\n",
       "    <tr>\n",
       "      <th>4</th>\n",
       "      <td>05-01-2023 Thu</td>\n",
       "      <td>1.05757</td>\n",
       "      <td>17.63892</td>\n",
       "      <td>0.925423</td>\n",
       "      <td>6.722281</td>\n",
       "      <td>7.653125</td>\n",
       "      <td>8.966141</td>\n",
       "      <td>10.67814</td>\n",
       "      <td>46.125</td>\n",
       "      <td>72.58334</td>\n",
       "      <td>77.0</td>\n",
       "      <td>NaN</td>\n",
       "    </tr>\n",
       "    <tr>\n",
       "      <th>...</th>\n",
       "      <td>...</td>\n",
       "      <td>...</td>\n",
       "      <td>...</td>\n",
       "      <td>...</td>\n",
       "      <td>...</td>\n",
       "      <td>...</td>\n",
       "      <td>...</td>\n",
       "      <td>...</td>\n",
       "      <td>...</td>\n",
       "      <td>...</td>\n",
       "      <td>...</td>\n",
       "      <td>...</td>\n",
       "    </tr>\n",
       "    <tr>\n",
       "      <th>723</th>\n",
       "      <td>12-27-2024</td>\n",
       "      <td>0.580075</td>\n",
       "      <td>27.21238</td>\n",
       "      <td>3.498646</td>\n",
       "      <td>12.38661</td>\n",
       "      <td>15.8969</td>\n",
       "      <td>11.92636</td>\n",
       "      <td>14.20219</td>\n",
       "      <td>25.5417</td>\n",
       "      <td>56.20833</td>\n",
       "      <td>56.0</td>\n",
       "      <td>NaN</td>\n",
       "    </tr>\n",
       "    <tr>\n",
       "      <th>724</th>\n",
       "      <td>12-28-2024</td>\n",
       "      <td>0.455104</td>\n",
       "      <td>22.82584</td>\n",
       "      <td>4.088819</td>\n",
       "      <td>14.65816</td>\n",
       "      <td>18.76071</td>\n",
       "      <td>11.59171</td>\n",
       "      <td>14.3856</td>\n",
       "      <td>16.5</td>\n",
       "      <td>34.66667</td>\n",
       "      <td>35.0</td>\n",
       "      <td>NaN</td>\n",
       "    </tr>\n",
       "    <tr>\n",
       "      <th>725</th>\n",
       "      <td>12-29-2024</td>\n",
       "      <td>0.457187</td>\n",
       "      <td>27.07407</td>\n",
       "      <td>3.548292</td>\n",
       "      <td>12.79628</td>\n",
       "      <td>16.35654</td>\n",
       "      <td>10.62165</td>\n",
       "      <td>13.44474</td>\n",
       "      <td>16.9167</td>\n",
       "      <td>35.45833</td>\n",
       "      <td>35.0</td>\n",
       "      <td>NaN</td>\n",
       "    </tr>\n",
       "    <tr>\n",
       "      <th>726</th>\n",
       "      <td>12-30-2024</td>\n",
       "      <td>0.536335</td>\n",
       "      <td>26.34239</td>\n",
       "      <td>3.722889</td>\n",
       "      <td>12.65944</td>\n",
       "      <td>16.39436</td>\n",
       "      <td>10.38356</td>\n",
       "      <td>14.42967</td>\n",
       "      <td>19.1667</td>\n",
       "      <td>40.91667</td>\n",
       "      <td>41.0</td>\n",
       "      <td>NaN</td>\n",
       "    </tr>\n",
       "    <tr>\n",
       "      <th>727</th>\n",
       "      <td>12-31-2024</td>\n",
       "      <td>0.587886</td>\n",
       "      <td>18.22695</td>\n",
       "      <td>4.34709</td>\n",
       "      <td>16.00604</td>\n",
       "      <td>20.36801</td>\n",
       "      <td>13.17408</td>\n",
       "      <td>13.1601</td>\n",
       "      <td>17.7083</td>\n",
       "      <td>37.5</td>\n",
       "      <td>38.0</td>\n",
       "      <td>NaN</td>\n",
       "    </tr>\n",
       "  </tbody>\n",
       "</table>\n",
       "<p>728 rows × 12 columns</p>\n",
       "</div>"
      ],
      "text/plain": [
       "           Date/Day CO\\n(mg/m³) Ozone (µg/m³) NO\\n(µg/m³) NO2\\n(µg/m³)  \\\n",
       "0    01-01-2023 Sun    0.738372      18.07169    0.911478     6.759912   \n",
       "1    02-01-2023 Mon   0.7425377      17.63625    1.260115     6.603401   \n",
       "2    03-01-2023 Tue    1.009664      16.14611    0.925423     6.737676   \n",
       "3    04-01-2023 Wed    1.160671      17.58717    2.046083     7.118263   \n",
       "4    05-01-2023 Thu     1.05757      17.63892    0.925423     6.722281   \n",
       "..              ...         ...           ...         ...          ...   \n",
       "723      12-27-2024    0.580075      27.21238    3.498646     12.38661   \n",
       "724      12-28-2024    0.455104      22.82584    4.088819     14.65816   \n",
       "725      12-29-2024    0.457187      27.07407    3.548292     12.79628   \n",
       "726      12-30-2024    0.536335      26.34239    3.722889     12.65944   \n",
       "727      12-31-2024    0.587886      18.22695     4.34709     16.00604   \n",
       "\n",
       "    NOX\\n(µg/m³) NH3\\n(µg/m³) SO2\\n(µg/m³) PM2.5\\n(µg/m³) PM10\\n(µg/m³)   AQI  \\\n",
       "0       7.676823     8.936063     9.258521       43.95833      69.54166  73.0   \n",
       "1       7.869164     9.275459     9.870674       44.08333         69.75  73.0   \n",
       "2        7.66853     8.978487      9.86591       39.20833      62.83333  65.0   \n",
       "3       9.171067     9.147236     10.81153          41.75          66.5  70.0   \n",
       "4       7.653125     8.966141     10.67814         46.125      72.58334  77.0   \n",
       "..           ...          ...          ...            ...           ...   ...   \n",
       "723      15.8969     11.92636     14.20219        25.5417      56.20833  56.0   \n",
       "724     18.76071     11.59171      14.3856           16.5      34.66667  35.0   \n",
       "725     16.35654     10.62165     13.44474        16.9167      35.45833  35.0   \n",
       "726     16.39436     10.38356     14.42967        19.1667      40.91667  41.0   \n",
       "727     20.36801     13.17408      13.1601        17.7083          37.5  38.0   \n",
       "\n",
       "    Unnamed: 11  \n",
       "0           NaN  \n",
       "1           NaN  \n",
       "2           NaN  \n",
       "3           NaN  \n",
       "4           NaN  \n",
       "..          ...  \n",
       "723         NaN  \n",
       "724         NaN  \n",
       "725         NaN  \n",
       "726         NaN  \n",
       "727         NaN  \n",
       "\n",
       "[728 rows x 12 columns]"
      ]
     },
     "execution_count": 123,
     "metadata": {},
     "output_type": "execute_result"
    }
   ],
   "source": [
    "import pandas as pd\n",
    "import numpy as np\n",
    "data= pd.read_csv(r\"C:\\Users\\home\\Downloads\\ProjectAkira.csv\",encoding=\"latin1\")\n",
    "data"
   ]
  },
  {
   "cell_type": "code",
   "execution_count": 124,
   "id": "3d24835f",
   "metadata": {},
   "outputs": [
    {
     "data": {
      "text/plain": [
       "Date/Day            0\n",
       "CO\\n(mg/m³)         0\n",
       "Ozone (µg/m³)       0\n",
       "NO\\n(µg/m³)         0\n",
       "NO2\\n(µg/m³)        0\n",
       "NOX\\n(µg/m³)        0\n",
       "NH3\\n(µg/m³)        0\n",
       "SO2\\n(µg/m³)        0\n",
       "PM2.5\\n(µg/m³)      0\n",
       "PM10\\n(µg/m³)       0\n",
       "AQI                 3\n",
       "Unnamed: 11       727\n",
       "dtype: int64"
      ]
     },
     "execution_count": 124,
     "metadata": {},
     "output_type": "execute_result"
    }
   ],
   "source": [
    "data.isnull().sum()"
   ]
  },
  {
   "cell_type": "code",
   "execution_count": 125,
   "id": "952f098e",
   "metadata": {},
   "outputs": [
    {
     "data": {
      "text/html": [
       "<div>\n",
       "<style scoped>\n",
       "    .dataframe tbody tr th:only-of-type {\n",
       "        vertical-align: middle;\n",
       "    }\n",
       "\n",
       "    .dataframe tbody tr th {\n",
       "        vertical-align: top;\n",
       "    }\n",
       "\n",
       "    .dataframe thead th {\n",
       "        text-align: right;\n",
       "    }\n",
       "</style>\n",
       "<table border=\"1\" class=\"dataframe\">\n",
       "  <thead>\n",
       "    <tr style=\"text-align: right;\">\n",
       "      <th></th>\n",
       "      <th>Date/Day</th>\n",
       "      <th>CO\\n(mg/m³)</th>\n",
       "      <th>Ozone (µg/m³)</th>\n",
       "      <th>NO\\n(µg/m³)</th>\n",
       "      <th>NO2\\n(µg/m³)</th>\n",
       "      <th>NOX\\n(µg/m³)</th>\n",
       "      <th>NH3\\n(µg/m³)</th>\n",
       "      <th>SO2\\n(µg/m³)</th>\n",
       "      <th>PM2.5\\n(µg/m³)</th>\n",
       "      <th>PM10\\n(µg/m³)</th>\n",
       "      <th>AQI</th>\n",
       "    </tr>\n",
       "  </thead>\n",
       "  <tbody>\n",
       "    <tr>\n",
       "      <th>0</th>\n",
       "      <td>01-01-2023 Sun</td>\n",
       "      <td>0.738372</td>\n",
       "      <td>18.07169</td>\n",
       "      <td>0.911478</td>\n",
       "      <td>6.759912</td>\n",
       "      <td>7.676823</td>\n",
       "      <td>8.936063</td>\n",
       "      <td>9.258521</td>\n",
       "      <td>43.95833</td>\n",
       "      <td>69.54166</td>\n",
       "      <td>73.0</td>\n",
       "    </tr>\n",
       "    <tr>\n",
       "      <th>1</th>\n",
       "      <td>02-01-2023 Mon</td>\n",
       "      <td>0.7425377</td>\n",
       "      <td>17.63625</td>\n",
       "      <td>1.260115</td>\n",
       "      <td>6.603401</td>\n",
       "      <td>7.869164</td>\n",
       "      <td>9.275459</td>\n",
       "      <td>9.870674</td>\n",
       "      <td>44.08333</td>\n",
       "      <td>69.75</td>\n",
       "      <td>73.0</td>\n",
       "    </tr>\n",
       "    <tr>\n",
       "      <th>2</th>\n",
       "      <td>03-01-2023 Tue</td>\n",
       "      <td>1.009664</td>\n",
       "      <td>16.14611</td>\n",
       "      <td>0.925423</td>\n",
       "      <td>6.737676</td>\n",
       "      <td>7.66853</td>\n",
       "      <td>8.978487</td>\n",
       "      <td>9.86591</td>\n",
       "      <td>39.20833</td>\n",
       "      <td>62.83333</td>\n",
       "      <td>65.0</td>\n",
       "    </tr>\n",
       "    <tr>\n",
       "      <th>3</th>\n",
       "      <td>04-01-2023 Wed</td>\n",
       "      <td>1.160671</td>\n",
       "      <td>17.58717</td>\n",
       "      <td>2.046083</td>\n",
       "      <td>7.118263</td>\n",
       "      <td>9.171067</td>\n",
       "      <td>9.147236</td>\n",
       "      <td>10.81153</td>\n",
       "      <td>41.75</td>\n",
       "      <td>66.5</td>\n",
       "      <td>70.0</td>\n",
       "    </tr>\n",
       "    <tr>\n",
       "      <th>4</th>\n",
       "      <td>05-01-2023 Thu</td>\n",
       "      <td>1.05757</td>\n",
       "      <td>17.63892</td>\n",
       "      <td>0.925423</td>\n",
       "      <td>6.722281</td>\n",
       "      <td>7.653125</td>\n",
       "      <td>8.966141</td>\n",
       "      <td>10.67814</td>\n",
       "      <td>46.125</td>\n",
       "      <td>72.58334</td>\n",
       "      <td>77.0</td>\n",
       "    </tr>\n",
       "    <tr>\n",
       "      <th>...</th>\n",
       "      <td>...</td>\n",
       "      <td>...</td>\n",
       "      <td>...</td>\n",
       "      <td>...</td>\n",
       "      <td>...</td>\n",
       "      <td>...</td>\n",
       "      <td>...</td>\n",
       "      <td>...</td>\n",
       "      <td>...</td>\n",
       "      <td>...</td>\n",
       "      <td>...</td>\n",
       "    </tr>\n",
       "    <tr>\n",
       "      <th>723</th>\n",
       "      <td>12-27-2024</td>\n",
       "      <td>0.580075</td>\n",
       "      <td>27.21238</td>\n",
       "      <td>3.498646</td>\n",
       "      <td>12.38661</td>\n",
       "      <td>15.8969</td>\n",
       "      <td>11.92636</td>\n",
       "      <td>14.20219</td>\n",
       "      <td>25.5417</td>\n",
       "      <td>56.20833</td>\n",
       "      <td>56.0</td>\n",
       "    </tr>\n",
       "    <tr>\n",
       "      <th>724</th>\n",
       "      <td>12-28-2024</td>\n",
       "      <td>0.455104</td>\n",
       "      <td>22.82584</td>\n",
       "      <td>4.088819</td>\n",
       "      <td>14.65816</td>\n",
       "      <td>18.76071</td>\n",
       "      <td>11.59171</td>\n",
       "      <td>14.3856</td>\n",
       "      <td>16.5</td>\n",
       "      <td>34.66667</td>\n",
       "      <td>35.0</td>\n",
       "    </tr>\n",
       "    <tr>\n",
       "      <th>725</th>\n",
       "      <td>12-29-2024</td>\n",
       "      <td>0.457187</td>\n",
       "      <td>27.07407</td>\n",
       "      <td>3.548292</td>\n",
       "      <td>12.79628</td>\n",
       "      <td>16.35654</td>\n",
       "      <td>10.62165</td>\n",
       "      <td>13.44474</td>\n",
       "      <td>16.9167</td>\n",
       "      <td>35.45833</td>\n",
       "      <td>35.0</td>\n",
       "    </tr>\n",
       "    <tr>\n",
       "      <th>726</th>\n",
       "      <td>12-30-2024</td>\n",
       "      <td>0.536335</td>\n",
       "      <td>26.34239</td>\n",
       "      <td>3.722889</td>\n",
       "      <td>12.65944</td>\n",
       "      <td>16.39436</td>\n",
       "      <td>10.38356</td>\n",
       "      <td>14.42967</td>\n",
       "      <td>19.1667</td>\n",
       "      <td>40.91667</td>\n",
       "      <td>41.0</td>\n",
       "    </tr>\n",
       "    <tr>\n",
       "      <th>727</th>\n",
       "      <td>12-31-2024</td>\n",
       "      <td>0.587886</td>\n",
       "      <td>18.22695</td>\n",
       "      <td>4.34709</td>\n",
       "      <td>16.00604</td>\n",
       "      <td>20.36801</td>\n",
       "      <td>13.17408</td>\n",
       "      <td>13.1601</td>\n",
       "      <td>17.7083</td>\n",
       "      <td>37.5</td>\n",
       "      <td>38.0</td>\n",
       "    </tr>\n",
       "  </tbody>\n",
       "</table>\n",
       "<p>728 rows × 11 columns</p>\n",
       "</div>"
      ],
      "text/plain": [
       "           Date/Day CO\\n(mg/m³) Ozone (µg/m³) NO\\n(µg/m³) NO2\\n(µg/m³)  \\\n",
       "0    01-01-2023 Sun    0.738372      18.07169    0.911478     6.759912   \n",
       "1    02-01-2023 Mon   0.7425377      17.63625    1.260115     6.603401   \n",
       "2    03-01-2023 Tue    1.009664      16.14611    0.925423     6.737676   \n",
       "3    04-01-2023 Wed    1.160671      17.58717    2.046083     7.118263   \n",
       "4    05-01-2023 Thu     1.05757      17.63892    0.925423     6.722281   \n",
       "..              ...         ...           ...         ...          ...   \n",
       "723      12-27-2024    0.580075      27.21238    3.498646     12.38661   \n",
       "724      12-28-2024    0.455104      22.82584    4.088819     14.65816   \n",
       "725      12-29-2024    0.457187      27.07407    3.548292     12.79628   \n",
       "726      12-30-2024    0.536335      26.34239    3.722889     12.65944   \n",
       "727      12-31-2024    0.587886      18.22695     4.34709     16.00604   \n",
       "\n",
       "    NOX\\n(µg/m³) NH3\\n(µg/m³) SO2\\n(µg/m³) PM2.5\\n(µg/m³) PM10\\n(µg/m³)   AQI  \n",
       "0       7.676823     8.936063     9.258521       43.95833      69.54166  73.0  \n",
       "1       7.869164     9.275459     9.870674       44.08333         69.75  73.0  \n",
       "2        7.66853     8.978487      9.86591       39.20833      62.83333  65.0  \n",
       "3       9.171067     9.147236     10.81153          41.75          66.5  70.0  \n",
       "4       7.653125     8.966141     10.67814         46.125      72.58334  77.0  \n",
       "..           ...          ...          ...            ...           ...   ...  \n",
       "723      15.8969     11.92636     14.20219        25.5417      56.20833  56.0  \n",
       "724     18.76071     11.59171      14.3856           16.5      34.66667  35.0  \n",
       "725     16.35654     10.62165     13.44474        16.9167      35.45833  35.0  \n",
       "726     16.39436     10.38356     14.42967        19.1667      40.91667  41.0  \n",
       "727     20.36801     13.17408      13.1601        17.7083          37.5  38.0  \n",
       "\n",
       "[728 rows x 11 columns]"
      ]
     },
     "execution_count": 125,
     "metadata": {},
     "output_type": "execute_result"
    }
   ],
   "source": [
    "data1=data.drop([\"Unnamed: 11\"],axis=1)\n",
    "data1"
   ]
  },
  {
   "cell_type": "code",
   "execution_count": 126,
   "id": "5c5c8c15",
   "metadata": {},
   "outputs": [
    {
     "data": {
      "text/html": [
       "<div>\n",
       "<style scoped>\n",
       "    .dataframe tbody tr th:only-of-type {\n",
       "        vertical-align: middle;\n",
       "    }\n",
       "\n",
       "    .dataframe tbody tr th {\n",
       "        vertical-align: top;\n",
       "    }\n",
       "\n",
       "    .dataframe thead th {\n",
       "        text-align: right;\n",
       "    }\n",
       "</style>\n",
       "<table border=\"1\" class=\"dataframe\">\n",
       "  <thead>\n",
       "    <tr style=\"text-align: right;\">\n",
       "      <th></th>\n",
       "      <th>Date/Day</th>\n",
       "      <th>CO\\n(mg/m³)</th>\n",
       "      <th>Ozone (µg/m³)</th>\n",
       "      <th>NO\\n(µg/m³)</th>\n",
       "      <th>NO2\\n(µg/m³)</th>\n",
       "      <th>NOX\\n(µg/m³)</th>\n",
       "      <th>NH3\\n(µg/m³)</th>\n",
       "      <th>SO2\\n(µg/m³)</th>\n",
       "      <th>PM2.5\\n(µg/m³)</th>\n",
       "      <th>PM10\\n(µg/m³)</th>\n",
       "      <th>AQI</th>\n",
       "    </tr>\n",
       "  </thead>\n",
       "  <tbody>\n",
       "    <tr>\n",
       "      <th>0</th>\n",
       "      <td>01-01-2023 Sun</td>\n",
       "      <td>0.738372</td>\n",
       "      <td>18.07169</td>\n",
       "      <td>0.911478</td>\n",
       "      <td>6.759912</td>\n",
       "      <td>7.676823</td>\n",
       "      <td>8.936063</td>\n",
       "      <td>9.258521</td>\n",
       "      <td>43.95833</td>\n",
       "      <td>69.54166</td>\n",
       "      <td>73.0</td>\n",
       "    </tr>\n",
       "    <tr>\n",
       "      <th>1</th>\n",
       "      <td>02-01-2023 Mon</td>\n",
       "      <td>0.7425377</td>\n",
       "      <td>17.63625</td>\n",
       "      <td>1.260115</td>\n",
       "      <td>6.603401</td>\n",
       "      <td>7.869164</td>\n",
       "      <td>9.275459</td>\n",
       "      <td>9.870674</td>\n",
       "      <td>44.08333</td>\n",
       "      <td>69.75</td>\n",
       "      <td>73.0</td>\n",
       "    </tr>\n",
       "    <tr>\n",
       "      <th>2</th>\n",
       "      <td>03-01-2023 Tue</td>\n",
       "      <td>1.009664</td>\n",
       "      <td>16.14611</td>\n",
       "      <td>0.925423</td>\n",
       "      <td>6.737676</td>\n",
       "      <td>7.66853</td>\n",
       "      <td>8.978487</td>\n",
       "      <td>9.86591</td>\n",
       "      <td>39.20833</td>\n",
       "      <td>62.83333</td>\n",
       "      <td>65.0</td>\n",
       "    </tr>\n",
       "    <tr>\n",
       "      <th>3</th>\n",
       "      <td>04-01-2023 Wed</td>\n",
       "      <td>1.160671</td>\n",
       "      <td>17.58717</td>\n",
       "      <td>2.046083</td>\n",
       "      <td>7.118263</td>\n",
       "      <td>9.171067</td>\n",
       "      <td>9.147236</td>\n",
       "      <td>10.81153</td>\n",
       "      <td>41.75</td>\n",
       "      <td>66.5</td>\n",
       "      <td>70.0</td>\n",
       "    </tr>\n",
       "    <tr>\n",
       "      <th>4</th>\n",
       "      <td>05-01-2023 Thu</td>\n",
       "      <td>1.05757</td>\n",
       "      <td>17.63892</td>\n",
       "      <td>0.925423</td>\n",
       "      <td>6.722281</td>\n",
       "      <td>7.653125</td>\n",
       "      <td>8.966141</td>\n",
       "      <td>10.67814</td>\n",
       "      <td>46.125</td>\n",
       "      <td>72.58334</td>\n",
       "      <td>77.0</td>\n",
       "    </tr>\n",
       "    <tr>\n",
       "      <th>...</th>\n",
       "      <td>...</td>\n",
       "      <td>...</td>\n",
       "      <td>...</td>\n",
       "      <td>...</td>\n",
       "      <td>...</td>\n",
       "      <td>...</td>\n",
       "      <td>...</td>\n",
       "      <td>...</td>\n",
       "      <td>...</td>\n",
       "      <td>...</td>\n",
       "      <td>...</td>\n",
       "    </tr>\n",
       "    <tr>\n",
       "      <th>723</th>\n",
       "      <td>12-27-2024</td>\n",
       "      <td>0.580075</td>\n",
       "      <td>27.21238</td>\n",
       "      <td>3.498646</td>\n",
       "      <td>12.38661</td>\n",
       "      <td>15.8969</td>\n",
       "      <td>11.92636</td>\n",
       "      <td>14.20219</td>\n",
       "      <td>25.5417</td>\n",
       "      <td>56.20833</td>\n",
       "      <td>56.0</td>\n",
       "    </tr>\n",
       "    <tr>\n",
       "      <th>724</th>\n",
       "      <td>12-28-2024</td>\n",
       "      <td>0.455104</td>\n",
       "      <td>22.82584</td>\n",
       "      <td>4.088819</td>\n",
       "      <td>14.65816</td>\n",
       "      <td>18.76071</td>\n",
       "      <td>11.59171</td>\n",
       "      <td>14.3856</td>\n",
       "      <td>16.5</td>\n",
       "      <td>34.66667</td>\n",
       "      <td>35.0</td>\n",
       "    </tr>\n",
       "    <tr>\n",
       "      <th>725</th>\n",
       "      <td>12-29-2024</td>\n",
       "      <td>0.457187</td>\n",
       "      <td>27.07407</td>\n",
       "      <td>3.548292</td>\n",
       "      <td>12.79628</td>\n",
       "      <td>16.35654</td>\n",
       "      <td>10.62165</td>\n",
       "      <td>13.44474</td>\n",
       "      <td>16.9167</td>\n",
       "      <td>35.45833</td>\n",
       "      <td>35.0</td>\n",
       "    </tr>\n",
       "    <tr>\n",
       "      <th>726</th>\n",
       "      <td>12-30-2024</td>\n",
       "      <td>0.536335</td>\n",
       "      <td>26.34239</td>\n",
       "      <td>3.722889</td>\n",
       "      <td>12.65944</td>\n",
       "      <td>16.39436</td>\n",
       "      <td>10.38356</td>\n",
       "      <td>14.42967</td>\n",
       "      <td>19.1667</td>\n",
       "      <td>40.91667</td>\n",
       "      <td>41.0</td>\n",
       "    </tr>\n",
       "    <tr>\n",
       "      <th>727</th>\n",
       "      <td>12-31-2024</td>\n",
       "      <td>0.587886</td>\n",
       "      <td>18.22695</td>\n",
       "      <td>4.34709</td>\n",
       "      <td>16.00604</td>\n",
       "      <td>20.36801</td>\n",
       "      <td>13.17408</td>\n",
       "      <td>13.1601</td>\n",
       "      <td>17.7083</td>\n",
       "      <td>37.5</td>\n",
       "      <td>38.0</td>\n",
       "    </tr>\n",
       "  </tbody>\n",
       "</table>\n",
       "<p>728 rows × 11 columns</p>\n",
       "</div>"
      ],
      "text/plain": [
       "           Date/Day CO\\n(mg/m³) Ozone (µg/m³) NO\\n(µg/m³) NO2\\n(µg/m³)  \\\n",
       "0    01-01-2023 Sun    0.738372      18.07169    0.911478     6.759912   \n",
       "1    02-01-2023 Mon   0.7425377      17.63625    1.260115     6.603401   \n",
       "2    03-01-2023 Tue    1.009664      16.14611    0.925423     6.737676   \n",
       "3    04-01-2023 Wed    1.160671      17.58717    2.046083     7.118263   \n",
       "4    05-01-2023 Thu     1.05757      17.63892    0.925423     6.722281   \n",
       "..              ...         ...           ...         ...          ...   \n",
       "723      12-27-2024    0.580075      27.21238    3.498646     12.38661   \n",
       "724      12-28-2024    0.455104      22.82584    4.088819     14.65816   \n",
       "725      12-29-2024    0.457187      27.07407    3.548292     12.79628   \n",
       "726      12-30-2024    0.536335      26.34239    3.722889     12.65944   \n",
       "727      12-31-2024    0.587886      18.22695     4.34709     16.00604   \n",
       "\n",
       "    NOX\\n(µg/m³) NH3\\n(µg/m³) SO2\\n(µg/m³) PM2.5\\n(µg/m³) PM10\\n(µg/m³)   AQI  \n",
       "0       7.676823     8.936063     9.258521       43.95833      69.54166  73.0  \n",
       "1       7.869164     9.275459     9.870674       44.08333         69.75  73.0  \n",
       "2        7.66853     8.978487      9.86591       39.20833      62.83333  65.0  \n",
       "3       9.171067     9.147236     10.81153          41.75          66.5  70.0  \n",
       "4       7.653125     8.966141     10.67814         46.125      72.58334  77.0  \n",
       "..           ...          ...          ...            ...           ...   ...  \n",
       "723      15.8969     11.92636     14.20219        25.5417      56.20833  56.0  \n",
       "724     18.76071     11.59171      14.3856           16.5      34.66667  35.0  \n",
       "725     16.35654     10.62165     13.44474        16.9167      35.45833  35.0  \n",
       "726     16.39436     10.38356     14.42967        19.1667      40.91667  41.0  \n",
       "727     20.36801     13.17408      13.1601        17.7083          37.5  38.0  \n",
       "\n",
       "[728 rows x 11 columns]"
      ]
     },
     "execution_count": 126,
     "metadata": {},
     "output_type": "execute_result"
    }
   ],
   "source": [
    "data1.replace('-',np.nan,inplace=True)\n",
    "data1"
   ]
  },
  {
   "cell_type": "code",
   "execution_count": 127,
   "id": "c0bbfdc1",
   "metadata": {},
   "outputs": [
    {
     "data": {
      "text/html": [
       "<div>\n",
       "<style scoped>\n",
       "    .dataframe tbody tr th:only-of-type {\n",
       "        vertical-align: middle;\n",
       "    }\n",
       "\n",
       "    .dataframe tbody tr th {\n",
       "        vertical-align: top;\n",
       "    }\n",
       "\n",
       "    .dataframe thead th {\n",
       "        text-align: right;\n",
       "    }\n",
       "</style>\n",
       "<table border=\"1\" class=\"dataframe\">\n",
       "  <thead>\n",
       "    <tr style=\"text-align: right;\">\n",
       "      <th></th>\n",
       "      <th>Date/Day</th>\n",
       "      <th>CO\\n(mg/m³)</th>\n",
       "      <th>Ozone (µg/m³)</th>\n",
       "      <th>NO\\n(µg/m³)</th>\n",
       "      <th>NO2\\n(µg/m³)</th>\n",
       "      <th>NOX\\n(µg/m³)</th>\n",
       "      <th>NH3\\n(µg/m³)</th>\n",
       "      <th>SO2\\n(µg/m³)</th>\n",
       "      <th>PM2.5\\n(µg/m³)</th>\n",
       "      <th>PM10\\n(µg/m³)</th>\n",
       "      <th>AQI</th>\n",
       "    </tr>\n",
       "  </thead>\n",
       "  <tbody>\n",
       "    <tr>\n",
       "      <th>0</th>\n",
       "      <td>01-01-2023 Sun</td>\n",
       "      <td>0.738372</td>\n",
       "      <td>18.07169</td>\n",
       "      <td>0.911478</td>\n",
       "      <td>6.759912</td>\n",
       "      <td>7.676823</td>\n",
       "      <td>8.936063</td>\n",
       "      <td>9.258521</td>\n",
       "      <td>43.95833</td>\n",
       "      <td>69.54166</td>\n",
       "      <td>73.0</td>\n",
       "    </tr>\n",
       "    <tr>\n",
       "      <th>1</th>\n",
       "      <td>02-01-2023 Mon</td>\n",
       "      <td>0.7425377</td>\n",
       "      <td>17.63625</td>\n",
       "      <td>1.260115</td>\n",
       "      <td>6.603401</td>\n",
       "      <td>7.869164</td>\n",
       "      <td>9.275459</td>\n",
       "      <td>9.870674</td>\n",
       "      <td>44.08333</td>\n",
       "      <td>69.75</td>\n",
       "      <td>73.0</td>\n",
       "    </tr>\n",
       "    <tr>\n",
       "      <th>2</th>\n",
       "      <td>03-01-2023 Tue</td>\n",
       "      <td>1.009664</td>\n",
       "      <td>16.14611</td>\n",
       "      <td>0.925423</td>\n",
       "      <td>6.737676</td>\n",
       "      <td>7.66853</td>\n",
       "      <td>8.978487</td>\n",
       "      <td>9.86591</td>\n",
       "      <td>39.20833</td>\n",
       "      <td>62.83333</td>\n",
       "      <td>65.0</td>\n",
       "    </tr>\n",
       "    <tr>\n",
       "      <th>3</th>\n",
       "      <td>04-01-2023 Wed</td>\n",
       "      <td>1.160671</td>\n",
       "      <td>17.58717</td>\n",
       "      <td>2.046083</td>\n",
       "      <td>7.118263</td>\n",
       "      <td>9.171067</td>\n",
       "      <td>9.147236</td>\n",
       "      <td>10.81153</td>\n",
       "      <td>41.75</td>\n",
       "      <td>66.5</td>\n",
       "      <td>70.0</td>\n",
       "    </tr>\n",
       "    <tr>\n",
       "      <th>4</th>\n",
       "      <td>05-01-2023 Thu</td>\n",
       "      <td>1.05757</td>\n",
       "      <td>17.63892</td>\n",
       "      <td>0.925423</td>\n",
       "      <td>6.722281</td>\n",
       "      <td>7.653125</td>\n",
       "      <td>8.966141</td>\n",
       "      <td>10.67814</td>\n",
       "      <td>46.125</td>\n",
       "      <td>72.58334</td>\n",
       "      <td>77.0</td>\n",
       "    </tr>\n",
       "    <tr>\n",
       "      <th>...</th>\n",
       "      <td>...</td>\n",
       "      <td>...</td>\n",
       "      <td>...</td>\n",
       "      <td>...</td>\n",
       "      <td>...</td>\n",
       "      <td>...</td>\n",
       "      <td>...</td>\n",
       "      <td>...</td>\n",
       "      <td>...</td>\n",
       "      <td>...</td>\n",
       "      <td>...</td>\n",
       "    </tr>\n",
       "    <tr>\n",
       "      <th>723</th>\n",
       "      <td>12-27-2024</td>\n",
       "      <td>0.580075</td>\n",
       "      <td>27.21238</td>\n",
       "      <td>3.498646</td>\n",
       "      <td>12.38661</td>\n",
       "      <td>15.8969</td>\n",
       "      <td>11.92636</td>\n",
       "      <td>14.20219</td>\n",
       "      <td>25.5417</td>\n",
       "      <td>56.20833</td>\n",
       "      <td>56.0</td>\n",
       "    </tr>\n",
       "    <tr>\n",
       "      <th>724</th>\n",
       "      <td>12-28-2024</td>\n",
       "      <td>0.455104</td>\n",
       "      <td>22.82584</td>\n",
       "      <td>4.088819</td>\n",
       "      <td>14.65816</td>\n",
       "      <td>18.76071</td>\n",
       "      <td>11.59171</td>\n",
       "      <td>14.3856</td>\n",
       "      <td>16.5</td>\n",
       "      <td>34.66667</td>\n",
       "      <td>35.0</td>\n",
       "    </tr>\n",
       "    <tr>\n",
       "      <th>725</th>\n",
       "      <td>12-29-2024</td>\n",
       "      <td>0.457187</td>\n",
       "      <td>27.07407</td>\n",
       "      <td>3.548292</td>\n",
       "      <td>12.79628</td>\n",
       "      <td>16.35654</td>\n",
       "      <td>10.62165</td>\n",
       "      <td>13.44474</td>\n",
       "      <td>16.9167</td>\n",
       "      <td>35.45833</td>\n",
       "      <td>35.0</td>\n",
       "    </tr>\n",
       "    <tr>\n",
       "      <th>726</th>\n",
       "      <td>12-30-2024</td>\n",
       "      <td>0.536335</td>\n",
       "      <td>26.34239</td>\n",
       "      <td>3.722889</td>\n",
       "      <td>12.65944</td>\n",
       "      <td>16.39436</td>\n",
       "      <td>10.38356</td>\n",
       "      <td>14.42967</td>\n",
       "      <td>19.1667</td>\n",
       "      <td>40.91667</td>\n",
       "      <td>41.0</td>\n",
       "    </tr>\n",
       "    <tr>\n",
       "      <th>727</th>\n",
       "      <td>12-31-2024</td>\n",
       "      <td>0.587886</td>\n",
       "      <td>18.22695</td>\n",
       "      <td>4.34709</td>\n",
       "      <td>16.00604</td>\n",
       "      <td>20.36801</td>\n",
       "      <td>13.17408</td>\n",
       "      <td>13.1601</td>\n",
       "      <td>17.7083</td>\n",
       "      <td>37.5</td>\n",
       "      <td>38.0</td>\n",
       "    </tr>\n",
       "  </tbody>\n",
       "</table>\n",
       "<p>714 rows × 11 columns</p>\n",
       "</div>"
      ],
      "text/plain": [
       "           Date/Day CO\\n(mg/m³) Ozone (µg/m³) NO\\n(µg/m³) NO2\\n(µg/m³)  \\\n",
       "0    01-01-2023 Sun    0.738372      18.07169    0.911478     6.759912   \n",
       "1    02-01-2023 Mon   0.7425377      17.63625    1.260115     6.603401   \n",
       "2    03-01-2023 Tue    1.009664      16.14611    0.925423     6.737676   \n",
       "3    04-01-2023 Wed    1.160671      17.58717    2.046083     7.118263   \n",
       "4    05-01-2023 Thu     1.05757      17.63892    0.925423     6.722281   \n",
       "..              ...         ...           ...         ...          ...   \n",
       "723      12-27-2024    0.580075      27.21238    3.498646     12.38661   \n",
       "724      12-28-2024    0.455104      22.82584    4.088819     14.65816   \n",
       "725      12-29-2024    0.457187      27.07407    3.548292     12.79628   \n",
       "726      12-30-2024    0.536335      26.34239    3.722889     12.65944   \n",
       "727      12-31-2024    0.587886      18.22695     4.34709     16.00604   \n",
       "\n",
       "    NOX\\n(µg/m³) NH3\\n(µg/m³) SO2\\n(µg/m³) PM2.5\\n(µg/m³) PM10\\n(µg/m³)   AQI  \n",
       "0       7.676823     8.936063     9.258521       43.95833      69.54166  73.0  \n",
       "1       7.869164     9.275459     9.870674       44.08333         69.75  73.0  \n",
       "2        7.66853     8.978487      9.86591       39.20833      62.83333  65.0  \n",
       "3       9.171067     9.147236     10.81153          41.75          66.5  70.0  \n",
       "4       7.653125     8.966141     10.67814         46.125      72.58334  77.0  \n",
       "..           ...          ...          ...            ...           ...   ...  \n",
       "723      15.8969     11.92636     14.20219        25.5417      56.20833  56.0  \n",
       "724     18.76071     11.59171      14.3856           16.5      34.66667  35.0  \n",
       "725     16.35654     10.62165     13.44474        16.9167      35.45833  35.0  \n",
       "726     16.39436     10.38356     14.42967        19.1667      40.91667  41.0  \n",
       "727     20.36801     13.17408      13.1601        17.7083          37.5  38.0  \n",
       "\n",
       "[714 rows x 11 columns]"
      ]
     },
     "execution_count": 127,
     "metadata": {},
     "output_type": "execute_result"
    }
   ],
   "source": [
    "data1.dropna(inplace=True)\n",
    "data1"
   ]
  },
  {
   "cell_type": "code",
   "execution_count": 128,
   "id": "77b88061",
   "metadata": {},
   "outputs": [
    {
     "data": {
      "image/png": "[encoded data removed]",
      "text/plain": [
       "<Figure size 640x480 with 1 Axes>"
      ]
     },
     "metadata": {},
     "output_type": "display_data"
    }
   ],
   "source": [
    "import matplotlib.pyplot as plt \n",
    "plt.plot(data1['CO\\n(mg/m³)'],data1['AQI'])\n",
    "plt.show()"
   ]
  },
  {
   "cell_type": "code",
   "execution_count": 129,
   "id": "816e92fe",
   "metadata": {},
   "outputs": [
    {
     "data": {
      "text/plain": [
       "Index(['Date/Day', 'CO\\n(mg/m³)', 'Ozone (µg/m³)', 'NO\\n(µg/m³)',\n",
       "       'NO2\\n(µg/m³)', 'NOX\\n(µg/m³)', 'NH3\\n(µg/m³)', 'SO2\\n(µg/m³)',\n",
       "       'PM2.5\\n(µg/m³)', 'PM10\\n(µg/m³)', 'AQI'],\n",
       "      dtype='object')"
      ]
     },
     "execution_count": 129,
     "metadata": {},
     "output_type": "execute_result"
    }
   ],
   "source": [
    "data1.columns\n"
   ]
  },
  {
   "cell_type": "code",
   "execution_count": 130,
   "id": "68f95def",
   "metadata": {},
   "outputs": [
    {
     "data": {
      "image/png": "[encoded data removed]",
      "text/plain": [
       "<Figure size 640x480 with 1 Axes>"
      ]
     },
     "metadata": {},
     "output_type": "display_data"
    }
   ],
   "source": [
    "import seaborn as sns\n",
    "sns.lineplot(x='CO\\n(mg/m³)',y='AQI',data=data1)\n",
    "plt.show()"
   ]
  },
  {
   "cell_type": "code",
   "execution_count": 131,
   "id": "2130b6e9",
   "metadata": {},
   "outputs": [
    {
     "data": {
      "image/png": "[encoded data removed]",
      "text/plain": [
       "<Figure size 640x480 with 1 Axes>"
      ]
     },
     "metadata": {},
     "output_type": "display_data"
    }
   ],
   "source": [
    "sns.barplot(x='NH3\\n(µg/m³)',y='AQI',data=data1)\n",
    "plt.show()"
   ]
  },
  {
   "cell_type": "code",
   "execution_count": 132,
   "id": "31b66b29",
   "metadata": {},
   "outputs": [
    {
     "data": {
      "image/png": "[encoded data removed]",
      "text/plain": [
       "<Figure size 640x480 with 1 Axes>"
      ]
     },
     "metadata": {},
     "output_type": "display_data"
    }
   ],
   "source": [
    "sns.histplot(x='NH3\\n(µg/m³)',data=data)\n",
    "plt.show()"
   ]
  },
  {
   "cell_type": "code",
   "execution_count": 133,
   "id": "3ad05d13",
   "metadata": {},
   "outputs": [
    {
     "data": {
      "text/plain": [
       "Index(['Date/Day', 'CO\\n(mg/m³)', 'Ozone (µg/m³)', 'NO\\n(µg/m³)',\n",
       "       'NO2\\n(µg/m³)', 'NOX\\n(µg/m³)', 'NH3\\n(µg/m³)', 'SO2\\n(µg/m³)',\n",
       "       'PM2.5\\n(µg/m³)', 'PM10\\n(µg/m³)', 'AQI'],\n",
       "      dtype='object')"
      ]
     },
     "execution_count": 133,
     "metadata": {},
     "output_type": "execute_result"
    }
   ],
   "source": [
    "data1.columns"
   ]
  },
  {
   "cell_type": "code",
   "execution_count": 134,
   "id": "994f1510",
   "metadata": {},
   "outputs": [],
   "source": [
    "x=data1[['CO\\n(mg/m³)', 'Ozone (µg/m³)', 'NO\\n(µg/m³)','NO2\\n(µg/m³)', 'NOX\\n(µg/m³)', 'NH3\\n(µg/m³)', 'SO2\\n(µg/m³)','PM2.5\\n(µg/m³)', 'PM10\\n(µg/m³)']]\n",
    "y=data1['AQI']"
   ]
  },
  {
   "cell_type": "code",
   "execution_count": 135,
   "id": "c0e0b81e",
   "metadata": {},
   "outputs": [
    {
     "name": "stdout",
     "output_type": "stream",
     "text": [
      "[[0.40159195 0.39436084 0.02620227 ... 0.23792605 0.37131265 0.43821834]\n",
      " [0.40438772 0.37780418 0.04310257 ... 0.2685337  0.37241885 0.43965517]\n",
      " [0.58366711 0.32114487 0.02687826 ... 0.2682955  0.32927726 0.391954  ]\n",
      " ...\n",
      " [0.21287718 0.73665665 0.1540227  ... 0.447237   0.13200619 0.2031609 ]\n",
      " [0.26599664 0.70883612 0.16248635 ... 0.4964835  0.1519177  0.24080462]\n",
      " [0.30059463 0.40026426 0.1927447  ... 0.433005   0.1390115  0.21724138]]\n"
     ]
    }
   ],
   "source": [
    "from sklearn.preprocessing import MinMaxScaler\n",
    "scale=MinMaxScaler()\n",
    "s=scale.fit_transform(x)\n",
    "print(s)"
   ]
  },
  {
   "cell_type": "code",
   "execution_count": 136,
   "id": "0d8fb90a",
   "metadata": {},
   "outputs": [],
   "source": [
    "from sklearn.model_selection import train_test_split\n",
    "x_train,x_test,y_train,y_test=train_test_split(s,y,test_size=0.2)"
   ]
  },
  {
   "cell_type": "code",
   "execution_count": 137,
   "id": "8a4155ef",
   "metadata": {},
   "outputs": [],
   "source": [
    "from sklearn.neighbors import KNeighborsRegressor\n",
    "classi=KNeighborsRegressor(n_neighbors=5)\n",
    "classi.fit(x_train,y_train)\n",
    "y_pred=classi.predict(x_test)"
   ]
  },
  {
   "cell_type": "code",
   "execution_count": 138,
   "id": "97151421",
   "metadata": {},
   "outputs": [
    {
     "data": {
      "text/plain": [
       "91.7676223776224"
      ]
     },
     "execution_count": 138,
     "metadata": {},
     "output_type": "execute_result"
    }
   ],
   "source": [
    "from sklearn.metrics import mean_squared_error\n",
    "mean_squared_error(y_test,y_pred)"
   ]
  },
  {
   "cell_type": "code",
   "execution_count": 139,
   "id": "4eb1b44d",
   "metadata": {},
   "outputs": [
    {
     "name": "stdout",
     "output_type": "stream",
     "text": [
      "9.579541866792086\n"
     ]
    }
   ],
   "source": [
    "print(np.sqrt(mean_squared_error(y_test,y_pred)))"
   ]
  },
  {
   "cell_type": "code",
   "execution_count": 140,
   "id": "233077ac",
   "metadata": {},
   "outputs": [
    {
     "data": {
      "text/plain": [
       "0.8120241439328111"
      ]
     },
     "execution_count": 140,
     "metadata": {},
     "output_type": "execute_result"
    }
   ],
   "source": [
    "from sklearn.metrics import r2_score\n",
    "r2_score(y_test,y_pred)"
   ]
  },
  {
   "cell_type": "code",
   "execution_count": 141,
   "id": "61e82933",
   "metadata": {},
   "outputs": [],
   "source": [
    "from sklearn.tree import DecisionTreeRegressor\n",
    "model=DecisionTreeRegressor()\n",
    "model.fit(x_train,y_train)\n",
    "y_pred=model.predict(x_test)"
   ]
  },
  {
   "cell_type": "code",
   "execution_count": 142,
   "id": "76f08885",
   "metadata": {},
   "outputs": [
    {
     "data": {
      "text/plain": [
       "145.3881118881119"
      ]
     },
     "execution_count": 142,
     "metadata": {},
     "output_type": "execute_result"
    }
   ],
   "source": [
    "from sklearn.metrics import mean_squared_error\n",
    "mean_squared_error(y_test,y_pred)"
   ]
  },
  {
   "cell_type": "code",
   "execution_count": 143,
   "id": "048be58b",
   "metadata": {},
   "outputs": [
    {
     "name": "stdout",
     "output_type": "stream",
     "text": [
      "12.057699278391043\n"
     ]
    }
   ],
   "source": [
    "print(np.sqrt(mean_squared_error(y_test,y_pred)))"
   ]
  },
  {
   "cell_type": "code",
   "execution_count": 144,
   "id": "96e5cef8",
   "metadata": {},
   "outputs": [
    {
     "data": {
      "text/plain": [
       "0.702188483409761"
      ]
     },
     "execution_count": 144,
     "metadata": {},
     "output_type": "execute_result"
    }
   ],
   "source": [
    "from sklearn.metrics import r2_score\n",
    "r2_score(y_test,y_pred)"
   ]
  },
  {
   "cell_type": "code",
   "execution_count": 145,
   "id": "b78296a5",
   "metadata": {},
   "outputs": [],
   "source": [
    "from sklearn.ensemble import RandomForestRegressor\n",
    "m_rf=RandomForestRegressor()\n",
    "m_rf.fit(x_train,y_train)\n",
    "y_pred=m_rf.predict(x_test)"
   ]
  },
  {
   "cell_type": "code",
   "execution_count": 146,
   "id": "60575c0c",
   "metadata": {},
   "outputs": [
    {
     "data": {
      "text/plain": [
       "96.5399368881119"
      ]
     },
     "execution_count": 146,
     "metadata": {},
     "output_type": "execute_result"
    }
   ],
   "source": [
    "from sklearn.metrics import mean_squared_error\n",
    "mean_squared_error(y_test,y_pred)"
   ]
  },
  {
   "cell_type": "code",
   "execution_count": 147,
   "id": "f1cce7db",
   "metadata": {},
   "outputs": [
    {
     "name": "stdout",
     "output_type": "stream",
     "text": [
      "9.825473876007807\n"
     ]
    }
   ],
   "source": [
    "print(np.sqrt(mean_squared_error(y_test,y_pred)))"
   ]
  },
  {
   "cell_type": "code",
   "execution_count": 148,
   "id": "13c963ad",
   "metadata": {},
   "outputs": [
    {
     "data": {
      "text/plain": [
       "0.8022485838573886"
      ]
     },
     "execution_count": 148,
     "metadata": {},
     "output_type": "execute_result"
    }
   ],
   "source": [
    "from sklearn.metrics import r2_score\n",
    "r2_score(y_test,y_pred)"
   ]
  },
  {
   "cell_type": "code",
   "execution_count": 149,
   "id": "1f8fda7c",
   "metadata": {},
   "outputs": [],
   "source": [
    "from sklearn.linear_model import LinearRegression\n",
    "lr=LinearRegression()\n",
    "lr.fit(x_train,y_train)\n",
    "y_pred=lr.predict(x_test)"
   ]
  },
  {
   "cell_type": "code",
   "execution_count": 150,
   "id": "e349e834",
   "metadata": {},
   "outputs": [
    {
     "data": {
      "text/plain": [
       "237.50112164165876"
      ]
     },
     "execution_count": 150,
     "metadata": {},
     "output_type": "execute_result"
    }
   ],
   "source": [
    "from sklearn.metrics import mean_squared_error\n",
    "mean_squared_error(y_test,y_pred)"
   ]
  },
  {
   "cell_type": "code",
   "execution_count": 151,
   "id": "589c8574",
   "metadata": {},
   "outputs": [
    {
     "name": "stdout",
     "output_type": "stream",
     "text": [
      "15.411071398240251\n"
     ]
    }
   ],
   "source": [
    "print(np.sqrt(mean_squared_error(y_test,y_pred)))"
   ]
  },
  {
   "cell_type": "code",
   "execution_count": 152,
   "id": "8eaccbb6",
   "metadata": {},
   "outputs": [
    {
     "data": {
      "text/plain": [
       "0.5135051393856864"
      ]
     },
     "execution_count": 152,
     "metadata": {},
     "output_type": "execute_result"
    }
   ],
   "source": [
    "from sklearn.metrics import r2_score\n",
    "r2_score(y_test,y_pred)"
   ]
  },
  {
   "cell_type": "code",
   "execution_count": 153,
   "id": "998bd684",
   "metadata": {},
   "outputs": [
    {
     "name": "stdout",
     "output_type": "stream",
     "text": [
      "R² Score - Kneighbour: 0.8120241439328111\n",
      "R² Score - DecisionTree: 0.702188483409761\n",
      "R² Score - Random Forest: 0.8022485838573886\n",
      "R² Score - Linear Regression: 0.5135051393856864\n"
     ]
    },
    {
     "data": {
      "image/png": "[encoded data removed]",
      "text/plain": [
       "<Figure size 800x500 with 1 Axes>"
      ]
     },
     "metadata": {},
     "output_type": "display_data"
    }
   ],
   "source": [
    "import matplotlib.pyplot as plt\n",
    "from sklearn.metrics import r2_score\n",
    "r2_kn = r2_score(y_test,classi.predict(x_test))\n",
    "r2_d = r2_score(y_test,model.predict(x_test))\n",
    "r2_rf = r2_score(y_test, m_rf.predict(x_test))\n",
    "r2_lr = r2_score(y_test, lr.predict(x_test))\n",
    "print(\"R² Score - Kneighbour:\", r2_kn)\n",
    "print(\"R² Score - DecisionTree:\", r2_d)\n",
    "print(\"R² Score - Random Forest:\", r2_rf)\n",
    "print(\"R² Score - Linear Regression:\", r2_lr)\n",
    "\n",
    "\n",
    "models = ['KNeighborsRegressor','DecisionTree','Random Forest', 'Linear Regression']\n",
    "r2_scores = [r2_kn,r2_d,r2_rf, r2_lr]\n",
    "plt.figure(figsize=(8, 5))\n",
    "plt.bar(models, r2_scores, color=['forestgreen', 'royalblue','red','orange'])\n",
    "plt.title('Model Comparison - R² Score')\n",
    "plt.ylabel('R² Score')\n",
    "plt.ylim(0, 1)  # Optional: set y-axis limit between 0 and 1\n",
    "for i, v in enumerate(r2_scores):\n",
    "    plt.text(i, v + 0.01, f\"{v:.2f}\", ha='center', fontweight='bold')\n",
    "plt.grid(axis='y', linestyle='--', alpha=0.7)\n",
    "plt.show()"
   ]
  },
  {
   "cell_type": "code",
   "execution_count": 154,
   "id": "e52a345f",
   "metadata": {},
   "outputs": [],
   "source": [
    "import pickle\n",
    "filename=\"aqimodel.pkl\"\n",
    "pickle.dump(m_rf,open(filename,\"wb\"))"
   ]
  },
  {
   "cell_type": "code",
   "execution_count": 155,
   "id": "9270e196",
   "metadata": {},
   "outputs": [],
   "source": [
    "loaded_model=pickle.load(open(\"aqimodel.pkl\",\"rb\"))\n",
    "p_pred=loaded_model.predict(x_test)"
   ]
  },
  {
   "cell_type": "code",
   "execution_count": 156,
   "id": "3fd057aa",
   "metadata": {},
   "outputs": [],
   "source": [
    "filename=\"scalmodel.pkl\"\n",
    "pickle.dump(scale,open(filename,\"wb\"))"
   ]
  },
  {
   "cell_type": "code",
   "execution_count": 157,
   "id": "1dcced99",
   "metadata": {},
   "outputs": [],
   "source": [
    "loaded_model=pickle.load(open(\"scalmodel.pkl\",\"rb\"))"
   ]
  },
  {
   "cell_type": "code",
   "execution_count": 158,
   "id": "73786239",
   "metadata": {},
   "outputs": [
    {
     "name": "stderr",
     "output_type": "stream",
     "text": [
      "c:\\Users\\home\\AppData\\Local\\Programs\\Python\\Python313\\Lib\\site-packages\\sklearn\\utils\\validation.py:2739: UserWarning: X does not have valid feature names, but MinMaxScaler was fitted with feature names\n",
      "  warnings.warn(\n"
     ]
    },
    {
     "data": {
      "text/plain": [
       "array([130.])"
      ]
     },
     "execution_count": 158,
     "metadata": {},
     "output_type": "execute_result"
    }
   ],
   "source": [
    "model.predict(scale.transform([[.98,17.8,1.1,6.9,8,9.2,8.1,69,104]]))"
   ]
  }
 ],
 "metadata": {
  "kernelspec": {
   "display_name": "Python 3",
   "language": "python",
   "name": "python3"
  },
  "language_info": {
   "codemirror_mode": {
    "name": "ipython",
    "version": 3
   },
   "file_extension": ".py",
   "mimetype": "text/x-python",
   "name": "python",
   "nbconvert_exporter": "python",
   "pygments_lexer": "ipython3",
   "version": "3.13.3"
  }
 },
 "nbformat": 4,
 "nbformat_minor": 5
}
